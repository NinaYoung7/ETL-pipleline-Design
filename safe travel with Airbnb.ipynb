{
 "cells": [
  {
   "cell_type": "code",
   "execution_count": 1,
   "id": "1d0964bf",
   "metadata": {},
   "outputs": [
    {
     "name": "stdout",
     "output_type": "stream",
     "text": [
      "Connecting to the PostgreSQL database...\n"
     ]
    }
   ],
   "source": [
    "import psycopg2, os\n",
    "\n",
    "print('Connecting to the PostgreSQL database...')\n",
    "conn = psycopg2.connect(\n",
    "    host=\"localhost\",\n",
    "    port='5432',\n",
    "    database=\"postgres\",\n",
    "    user=\"postgres\",\n",
    "    password=\"123\")\n",
    "conn.autocommit=True"
   ]
  },
  {
   "cell_type": "code",
   "execution_count": 2,
   "id": "9dc1a81e",
   "metadata": {},
   "outputs": [],
   "source": [
    "# create a cursor\n",
    "cur = conn.cursor()"
   ]
  },
  {
   "cell_type": "code",
   "execution_count": 3,
   "id": "18fdc535",
   "metadata": {},
   "outputs": [],
   "source": [
    "import pandas as pd\n",
    "queryCmd = '''\n",
    "SET datestyle TO \"ISO, MDY\";\n",
    "SELECT * FROM NEW_VIEW\n",
    "WHERE RN <=3\n",
    "           ;'''\n",
    "\n",
    "cur.execute(queryCmd)  \n",
    "\n",
    "df=pd.read_sql(queryCmd,conn)"
   ]
  },
  {
   "cell_type": "code",
   "execution_count": 4,
   "id": "aa15847f",
   "metadata": {},
   "outputs": [
    {
     "name": "stdout",
     "output_type": "stream",
     "text": [
      "        type                County  positive14day    condition  rn\n",
      "0   New_York              Herkimer       6.862000         High   1\n",
      "1   New_York                Broome       6.872000         High   2\n",
      "2   New_York                 Wayne       7.132667         High   3\n",
      "3   New_York              Hamilton       0.734667          Low   1\n",
      "4   New_York                 Bronx       1.342667          Low   2\n",
      "5   New_York            Chautauqua       1.874000          Low   3\n",
      "6   New_York            Livingston       5.100000  Medium High   1\n",
      "7   New_York                Otsego       5.174000  Medium High   2\n",
      "8   New_York        Capital Region       5.240000  Medium High   3\n",
      "9   New_York              Dutchess       3.749333   Medium Low   1\n",
      "10  New_York                Orange       3.760000   Medium Low   2\n",
      "11  New_York              New York       3.815333   Medium Low   3\n",
      "12        LA              Rosewood       0.128528         High   1\n",
      "13        LA               Avocado       0.132841         High   2\n",
      "14        LA              Crenshaw       0.133054         High   3\n",
      "15        LA                Puente       0.000678          Low   1\n",
      "16        LA            Littlerock       0.007472          Low   2\n",
      "17        LA              Pasadena       0.009371          Low   3\n",
      "18        LA               Tujunga       0.078869  Medium High   1\n",
      "19        LA         Santa Clarita       0.079755  Medium High   2\n",
      "20        LA  Palos Verdes Estates       0.079870  Medium High   3\n",
      "21        LA             Inglewood       0.054645   Medium Low   1\n",
      "22        LA                Covina       0.054778   Medium Low   2\n",
      "23        LA                Athens       0.055816   Medium Low   3\n"
     ]
    }
   ],
   "source": [
    "print(df)"
   ]
  },
  {
   "cell_type": "code",
   "execution_count": 5,
   "id": "5fea571a",
   "metadata": {},
   "outputs": [
    {
     "name": "stdout",
     "output_type": "stream",
     "text": [
      "398622\n"
     ]
    }
   ],
   "source": [
    "from pymongo import MongoClient\n",
    "client = MongoClient('localhost',27017) ## or MongoClient(\"localhost:27\")\n",
    "db = client.apan5400\n",
    "import json\n",
    "\n",
    "with open(\"merge_list.json\") as f:\n",
    "    reviews=json.load(f)\n",
    "print(len(reviews))"
   ]
  },
  {
   "cell_type": "code",
   "execution_count": 6,
   "id": "e192d132",
   "metadata": {},
   "outputs": [],
   "source": [
    "#reviews"
   ]
  },
  {
   "cell_type": "code",
   "execution_count": 7,
   "id": "87fa2648",
   "metadata": {
    "scrolled": true
   },
   "outputs": [
    {
     "data": {
      "text/plain": [
       "<pymongo.results.InsertManyResult at 0x7f7e4225bfd0>"
      ]
     },
     "execution_count": 7,
     "metadata": {},
     "output_type": "execute_result"
    }
   ],
   "source": [
    "collection = db.airbnbs\n",
    "collection.insert_many(reviews)"
   ]
  },
  {
   "cell_type": "code",
   "execution_count": 8,
   "id": "66a07b68",
   "metadata": {},
   "outputs": [],
   "source": [
    "from bson.son import SON\n",
    "def function(region):\n",
    "    q=[\n",
    "\n",
    "        {\"$match\":{ \"comments\":{\"$regex\":\"good|best|great|supper|clean|nice|friendly|better|safe\",\n",
    "                                   \"$options\":'i'}, \"Name\" : {\"$regex\":region,\"$options\":'i'}\n",
    "\n",
    "                  }\n",
    "        },\n",
    "        { \"$group\":{ \"_id\":{'listing_id': \"$listing_id\", 'Bedrooms':\"$Bedrooms\",\n",
    "                            'Bathrooms':\"$Bathrooms\", 'Property_type': \"$Property type\",\n",
    "                           'Airbnb_Scores':\"$Review Scores Rating\", 'Cleanliness':\"$Review Scores Cleanliness\"},\n",
    "                    \n",
    "                    \"count\": {\"$sum\": 1 }}},\n",
    "\n",
    "         {\"$sort\": SON([(\"count\", -1), (\"_id\", -1)])},\n",
    "         {\"$limit\":5}\n",
    "\n",
    "         ]    \n",
    "    return list(collection.aggregate(q))\n",
    "\n",
    "#function('New York')"
   ]
  },
  {
   "cell_type": "code",
   "execution_count": 9,
   "id": "3fcc0513",
   "metadata": {},
   "outputs": [],
   "source": [
    "import pandas as pd\n",
    "from flask import Flask, request, url_for, redirect, render_template\n",
    "app = Flask(\"Interactive App\")\n",
    "\n",
    "@app.route('/')\n",
    "def home():\n",
    "    return render_template(\"apan5400home.html\")\n",
    "\n",
    "@app.route('/', methods=['POST'])\n",
    "def regionselect():\n",
    "    if request.form['form'] == 'Generate':\n",
    "        val = request.form['inputState']\n",
    "        df_ret=df[df['condition']==val]\n",
    "        df_ret1=str(df_ret['County'].to_list())\n",
    "        return render_template(\"low.html\",mycontent2=df_ret1) \n",
    "    elif request.form['form'] == 'Send':\n",
    "        val2 = request.form['userinput']\n",
    "        y=function(val2)\n",
    "        df_ret2=str(y)\n",
    "        return render_template(\"low.html\",mycontent1=df_ret2) \n",
    "\n"
   ]
  },
  {
   "cell_type": "code",
   "execution_count": null,
   "id": "be9b7ac7",
   "metadata": {
    "scrolled": false
   },
   "outputs": [
    {
     "name": "stdout",
     "output_type": "stream",
     "text": [
      " * Serving Flask app \"Interactive App\" (lazy loading)\n",
      " * Environment: production\n",
      "   WARNING: This is a development server. Do not use it in a production deployment.\n",
      "   Use a production WSGI server instead.\n",
      " * Debug mode: off\n"
     ]
    },
    {
     "name": "stderr",
     "output_type": "stream",
     "text": [
      " * Running on http://localhost:5005/ (Press CTRL+C to quit)\n",
      "127.0.0.1 - - [01/May/2022 22:17:21] \"GET / HTTP/1.1\" 200 -\n",
      "127.0.0.1 - - [01/May/2022 22:17:21] \"GET /jquery.captcha.basic.min.js HTTP/1.1\" 404 -\n",
      "127.0.0.1 - - [01/May/2022 22:17:21] \"GET /jquery.captcha.basic.js HTTP/1.1\" 404 -\n",
      "127.0.0.1 - - [01/May/2022 22:17:21] \"GET /favicon.ico HTTP/1.1\" 404 -\n",
      "127.0.0.1 - - [01/May/2022 22:17:55] \"POST / HTTP/1.1\" 200 -\n",
      "127.0.0.1 - - [01/May/2022 22:18:21] \"POST / HTTP/1.1\" 200 -\n",
      "127.0.0.1 - - [01/May/2022 22:18:44] \"GET / HTTP/1.1\" 200 -\n",
      "127.0.0.1 - - [01/May/2022 22:18:44] \"GET /jquery.captcha.basic.min.js HTTP/1.1\" 404 -\n",
      "127.0.0.1 - - [01/May/2022 22:18:44] \"GET /jquery.captcha.basic.js HTTP/1.1\" 404 -\n",
      "127.0.0.1 - - [01/May/2022 22:18:51] \"POST / HTTP/1.1\" 200 -\n",
      "127.0.0.1 - - [01/May/2022 22:19:05] \"POST / HTTP/1.1\" 200 -\n",
      "127.0.0.1 - - [01/May/2022 22:19:21] \"GET / HTTP/1.1\" 200 -\n",
      "127.0.0.1 - - [01/May/2022 22:19:21] \"GET /jquery.captcha.basic.min.js HTTP/1.1\" 404 -\n",
      "127.0.0.1 - - [01/May/2022 22:19:21] \"GET /jquery.captcha.basic.js HTTP/1.1\" 404 -\n"
     ]
    }
   ],
   "source": [
    "app.run(host='localhost', port=5005)"
   ]
  },
  {
   "cell_type": "code",
   "execution_count": null,
   "id": "5c6c81ee",
   "metadata": {},
   "outputs": [],
   "source": [
    "# close the communication with the PostgreSQL\n",
    "cur.close()"
   ]
  },
  {
   "cell_type": "code",
   "execution_count": null,
   "id": "7320912e",
   "metadata": {},
   "outputs": [],
   "source": []
  }
 ],
 "metadata": {
  "kernelspec": {
   "display_name": "Python 3 (ipykernel)",
   "language": "python",
   "name": "python3"
  },
  "language_info": {
   "codemirror_mode": {
    "name": "ipython",
    "version": 3
   },
   "file_extension": ".py",
   "mimetype": "text/x-python",
   "name": "python",
   "nbconvert_exporter": "python",
   "pygments_lexer": "ipython3",
   "version": "3.9.7"
  }
 },
 "nbformat": 4,
 "nbformat_minor": 5
}
